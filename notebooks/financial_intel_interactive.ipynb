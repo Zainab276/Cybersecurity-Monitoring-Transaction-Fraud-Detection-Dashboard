{
 "cells": [
  {
   "cell_type": "markdown",
   "id": "dada6f64",
   "metadata": {},
   "source": [
    "# Interactive Market Intelligence Notebook\n",
    "Fetch live US/PSX stocks, crypto, forex, and gold, with interactive Plotly charts."
   ]
  },
  {
   "cell_type": "code",
   "execution_count": 1,
   "id": "259599f0",
   "metadata": {},
   "outputs": [
    {
     "ename": "ModuleNotFoundError",
     "evalue": "No module named 'scripts.data_fetcher'",
     "output_type": "error",
     "traceback": [
      "\u001b[1;31m---------------------------------------------------------------------------\u001b[0m",
      "\u001b[1;31mModuleNotFoundError\u001b[0m                       Traceback (most recent call last)",
      "Cell \u001b[1;32mIn[1], line 3\u001b[0m\n\u001b[0;32m      1\u001b[0m \u001b[38;5;28;01mimport\u001b[39;00m \u001b[38;5;21;01mpandas\u001b[39;00m \u001b[38;5;28;01mas\u001b[39;00m \u001b[38;5;21;01mpd\u001b[39;00m\n\u001b[0;32m      2\u001b[0m \u001b[38;5;28;01mimport\u001b[39;00m \u001b[38;5;21;01mplotly\u001b[39;00m\u001b[38;5;21;01m.\u001b[39;00m\u001b[38;5;21;01mexpress\u001b[39;00m \u001b[38;5;28;01mas\u001b[39;00m \u001b[38;5;21;01mpx\u001b[39;00m\n\u001b[1;32m----> 3\u001b[0m \u001b[38;5;28;01mfrom\u001b[39;00m \u001b[38;5;21;01mscripts\u001b[39;00m\u001b[38;5;21;01m.\u001b[39;00m\u001b[38;5;21;01mdata_fetcher\u001b[39;00m \u001b[38;5;28;01mimport\u001b[39;00m fetch_yfinance, fetch_coingecko, save_data\n\u001b[0;32m      4\u001b[0m pd\u001b[38;5;241m.\u001b[39mset_option(\u001b[38;5;124m'\u001b[39m\u001b[38;5;124mdisplay.width\u001b[39m\u001b[38;5;124m'\u001b[39m,\u001b[38;5;241m200\u001b[39m)\n",
      "\u001b[1;31mModuleNotFoundError\u001b[0m: No module named 'scripts.data_fetcher'"
     ]
    }
   ],
   "source": [
    "import pandas as pd\n",
    "import plotly.express as px\n",
    "from scripts.data_fetcher import fetch_yfinance, fetch_coingecko, save_data\n",
    "pd.set_option('display.width',200)\n"
   ]
  },
  {
   "cell_type": "code",
   "execution_count": null,
   "id": "6091049d",
   "metadata": {},
   "outputs": [],
   "source": [
    "# Configuration\n",
    "psx = ['OGDC.PK','PPL.PK','HBL.PK']\n",
    "us = ['AAPL','MSFT','TSLA']\n",
    "cryptos = ['bitcoin','ethereum','solana']\n",
    "DAYS = 365\n"
   ]
  },
  {
   "cell_type": "code",
   "execution_count": null,
   "id": "56b090b4",
   "metadata": {},
   "outputs": [],
   "source": [
    "# Fetch Data\n",
    "yf_data = fetch_yfinance(psx+us, period_days=DAYS)\n",
    "cg_data = fetch_coingecko(cryptos, days=DAYS)\n",
    "save_data(yf_data)\n",
    "save_data(cg_data)\n",
    "print('Data fetched and saved in /data folder')"
   ]
  },
  {
   "cell_type": "code",
   "execution_count": null,
   "id": "25038387",
   "metadata": {},
   "outputs": [],
   "source": [
    "# Example Plotly chart: AAPL last 90 days\n",
    "if 'AAPL' in yf_data and yf_data['AAPL'] is not None:\n",
    "    df = yf_data['AAPL'].tail(90)\n",
    "    fig = px.line(df, y='Close', title='AAPL Last 90 Days')\n",
    "    fig.show()"
   ]
  }
 ],
 "metadata": {
  "kernelspec": {
   "display_name": "Python [conda env:base] *",
   "language": "python",
   "name": "conda-base-py"
  },
  "language_info": {
   "codemirror_mode": {
    "name": "ipython",
    "version": 3
   },
   "file_extension": ".py",
   "mimetype": "text/x-python",
   "name": "python",
   "nbconvert_exporter": "python",
   "pygments_lexer": "ipython3",
   "version": "3.12.7"
  }
 },
 "nbformat": 4,
 "nbformat_minor": 5
}
